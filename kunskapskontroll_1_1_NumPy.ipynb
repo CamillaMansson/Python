{
 "cells": [
  {
   "cell_type": "markdown",
   "id": "dacf74e6",
   "metadata": {},
   "source": [
    "# NumPy"
   ]
  },
  {
   "cell_type": "markdown",
   "id": "01b2bf34",
   "metadata": {},
   "source": [
    "Read the links: https://numpy.org/doc/stable/user/quickstart.html  and https://numpy.org/doc/stable/user/basics.broadcasting.html  before solving the exercises. "
   ]
  },
  {
   "cell_type": "code",
   "execution_count": 1,
   "id": "1f79e4a6",
   "metadata": {
    "scrolled": true
   },
   "outputs": [],
   "source": [
    "import numpy as np"
   ]
  },
  {
   "cell_type": "markdown",
   "id": "7dae6889",
   "metadata": {},
   "source": [
    "### Print out the dimension (number of axes), shape, size and the datatype of the matrix A."
   ]
  },
  {
   "cell_type": "code",
   "execution_count": 2,
   "id": "7b3678cd",
   "metadata": {
    "scrolled": true
   },
   "outputs": [
    {
     "name": "stdout",
     "output_type": "stream",
     "text": [
      "[[ 1  2  3  4  5]\n",
      " [ 6  7  8  9 10]\n",
      " [11 12 13 14 15]]\n"
     ]
    }
   ],
   "source": [
    "A = np.arange(1, 16).reshape(3,5)\n",
    "print(A)"
   ]
  },
  {
   "cell_type": "code",
   "execution_count": 3,
   "id": "31d39235",
   "metadata": {
    "scrolled": true
   },
   "outputs": [
    {
     "name": "stdout",
     "output_type": "stream",
     "text": [
      "The dimension (number of axes) of the Matrix A are:  2\n",
      "The shape of the Matrix A are:  (3, 5)\n",
      "The size of the Matrix A are:  15\n",
      "The datatype of the Matrix A are:  int32\n"
     ]
    }
   ],
   "source": [
    "print('The dimension (number of axes) of the Matrix A are: ', A.ndim)\n",
    "print('The shape of the Matrix A are: ', A.shape)\n",
    "print('The size of the Matrix A are: ', A.size)\n",
    "print('The datatype of the Matrix A are: ', A.dtype)"
   ]
  },
  {
   "cell_type": "markdown",
   "id": "e56d2a96",
   "metadata": {},
   "source": [
    "### Do the following computations on the matrices B and C: \n",
    "* Elementwise subtraction. \n",
    "* Elementwise multiplication. \n",
    "* Matrix multiplication (by default you should use the @ operator)."
   ]
  },
  {
   "cell_type": "code",
   "execution_count": 4,
   "id": "a7053fbb",
   "metadata": {
    "scrolled": true
   },
   "outputs": [
    {
     "name": "stdout",
     "output_type": "stream",
     "text": [
      "[[1 2 3]\n",
      " [4 5 6]\n",
      " [7 8 9]]\n",
      "\n",
      "[[2. 2. 2.]\n",
      " [2. 2. 2.]\n",
      " [2. 2. 2.]]\n"
     ]
    }
   ],
   "source": [
    "B = np.arange(1, 10).reshape(3, 3)\n",
    "C = np.ones((3, 3))*2\n",
    "\n",
    "print(B)\n",
    "print()\n",
    "print(C)"
   ]
  },
  {
   "cell_type": "code",
   "execution_count": null,
   "id": "3cd794ae",
   "metadata": {
    "scrolled": true
   },
   "outputs": [],
   "source": [
    "print('Result of elementwise subtraction (B-C):')\n",
    "print(B-C)\n",
    "print()\n",
    "print('Result of elementwise multiplication (B*C):')\n",
    "print(B*C)\n",
    "print()\n",
    "print('Result of Matrix multiplikation (B*C):')\n",
    "print(B@C)"
   ]
  },
  {
   "cell_type": "markdown",
   "id": "96030d53",
   "metadata": {},
   "source": [
    "### Do the following calculations on the matrix:\n",
    "* Exponentiate each number elementwise (use the np.exp function).\n",
    "\n",
    "* Calculate the minimum value in the whole matrix. \n",
    "* Calculcate the minimum value in each row. \n",
    "* Calculcate the minimum value in each column. \n",
    "\n",
    "\n",
    "* Find the index value for the minimum value in the whole matrix (hint: use np.argmin).\n",
    "* Find the index value for the minimum value in each row (hint: use np.argmin).\n",
    "\n",
    "\n",
    "* Calculate the sum for all elements.\n",
    "* Calculate the mean for each column. \n",
    "* Calculate the median for each column. "
   ]
  },
  {
   "cell_type": "code",
   "execution_count": 5,
   "id": "f8a9166b",
   "metadata": {
    "scrolled": true
   },
   "outputs": [
    {
     "name": "stdout",
     "output_type": "stream",
     "text": [
      "[[1 2 3]\n",
      " [4 5 6]\n",
      " [7 8 9]]\n"
     ]
    }
   ],
   "source": [
    "B = np.arange(1, 10).reshape(3, 3)\n",
    "print(B)"
   ]
  },
  {
   "cell_type": "code",
   "execution_count": 6,
   "id": "f03f24f7",
   "metadata": {
    "scrolled": true
   },
   "outputs": [
    {
     "name": "stdout",
     "output_type": "stream",
     "text": [
      "Result if we exponentiate each number elementwise:\n",
      "[[2.71828183e+00 7.38905610e+00 2.00855369e+01]\n",
      " [5.45981500e+01 1.48413159e+02 4.03428793e+02]\n",
      " [1.09663316e+03 2.98095799e+03 8.10308393e+03]]\n",
      "\n",
      "The minimum value of the whole matrix is:  1\n",
      "\n",
      "The minimum value in each row is:  [1 2 3]\n",
      "\n",
      "The minimum value in each column is:  [1 4 7]\n",
      "\n",
      "The minimum index value in the whole matrix is:  0\n",
      "\n",
      "The minimum index value in each row is:  [0 0 0]\n",
      "\n",
      "Result of the sum for all elements:  45\n",
      "\n",
      "Result of the mean for each column:  [2. 5. 8.]\n",
      "\n",
      "Result of the median for each column:  [2. 5. 8.]\n"
     ]
    }
   ],
   "source": [
    "print('Result if we exponentiate each number elementwise:')\n",
    "print(np.exp(B))\n",
    "print()\n",
    "print('The minimum value of the whole matrix is: ', np.min(B))\n",
    "print()\n",
    "print('The minimum value in each row is: ', np.min(B, axis=0))\n",
    "print()\n",
    "print('The minimum value in each column is: ', np.min(B, axis=1))\n",
    "print()\n",
    "print('The minimum index value in the whole matrix is: ', np.argmin(B))\n",
    "print()\n",
    "print('The minimum index value in each row is: ', np.argmin(B, axis=0))\n",
    "print()\n",
    "print('Result of the sum for all elements: ', np.sum(B))\n",
    "print()\n",
    "print('Result of the mean for each column: ', np.mean(B, axis=1))\n",
    "print()\n",
    "print('Result of the median for each column: ', np.median(B, axis=1))"
   ]
  },
  {
   "cell_type": "markdown",
   "id": "541eb7ba",
   "metadata": {},
   "source": [
    "### What does it mean when you provide fewer indices than axes when slicing? See example below."
   ]
  },
  {
   "cell_type": "code",
   "execution_count": 7,
   "id": "9c8abf56",
   "metadata": {
    "scrolled": true
   },
   "outputs": [
    {
     "name": "stdout",
     "output_type": "stream",
     "text": [
      "[[ 1  2  3  4  5]\n",
      " [ 6  7  8  9 10]\n",
      " [11 12 13 14 15]]\n"
     ]
    }
   ],
   "source": [
    "print(A)"
   ]
  },
  {
   "cell_type": "code",
   "execution_count": 8,
   "id": "69415f7b",
   "metadata": {
    "scrolled": true
   },
   "outputs": [
    {
     "data": {
      "text/plain": [
       "array([ 6,  7,  8,  9, 10])"
      ]
     },
     "execution_count": 8,
     "metadata": {},
     "output_type": "execute_result"
    }
   ],
   "source": [
    "A[1]"
   ]
  },
  {
   "cell_type": "markdown",
   "id": "6c53541b",
   "metadata": {},
   "source": [
    "**Answer:**"
   ]
  },
  {
   "cell_type": "code",
   "execution_count": 9,
   "id": "de01e120",
   "metadata": {
    "scrolled": true
   },
   "outputs": [],
   "source": [
    "# When fewer indices are provided than the number of axes, the missing indices are considered complete slices. A[1] the second row. Equivalent to A[1, :]"
   ]
  },
  {
   "cell_type": "markdown",
   "id": "6652d0c9",
   "metadata": {},
   "source": [
    "### Iterating over multidimensional arrays is done with respect to the first axis, so in the example below we iterate trough the rows. If you would like to iterate through the array *elementwise*, how would you do that?"
   ]
  },
  {
   "cell_type": "code",
   "execution_count": 10,
   "id": "9459864f",
   "metadata": {
    "scrolled": true
   },
   "outputs": [
    {
     "name": "stdout",
     "output_type": "stream",
     "text": [
      "[[ 1  2  3  4  5]\n",
      " [ 6  7  8  9 10]\n",
      " [11 12 13 14 15]]\n"
     ]
    }
   ],
   "source": [
    "print(A)"
   ]
  },
  {
   "cell_type": "code",
   "execution_count": 11,
   "id": "a671bb5a",
   "metadata": {
    "scrolled": true
   },
   "outputs": [
    {
     "name": "stdout",
     "output_type": "stream",
     "text": [
      "[1 2 3 4 5]\n",
      "[ 6  7  8  9 10]\n",
      "[11 12 13 14 15]\n"
     ]
    }
   ],
   "source": [
    "for i in A:\n",
    "    print(i)"
   ]
  },
  {
   "cell_type": "code",
   "execution_count": 12,
   "id": "f4e443a0",
   "metadata": {
    "scrolled": true
   },
   "outputs": [
    {
     "name": "stdout",
     "output_type": "stream",
     "text": [
      "1\n",
      "2\n",
      "3\n",
      "4\n",
      "5\n",
      "6\n",
      "7\n",
      "8\n",
      "9\n",
      "10\n",
      "11\n",
      "12\n",
      "13\n",
      "14\n",
      "15\n"
     ]
    }
   ],
   "source": [
    "for element in A.ravel():\n",
    "    print(element)"
   ]
  },
  {
   "cell_type": "markdown",
   "id": "608a2583",
   "metadata": {},
   "source": [
    "### Explain what the code below does. More specifically, b has three axes - what does this mean? "
   ]
  },
  {
   "cell_type": "code",
   "execution_count": 13,
   "id": "f8f9b26f",
   "metadata": {
    "scrolled": true
   },
   "outputs": [
    {
     "name": "stdout",
     "output_type": "stream",
     "text": [
      "[ 0  1  2  3  4  5  6  7  8  9 10 11 12 13 14 15 16 17 18 19 20 21 22 23\n",
      " 24 25 26 27 28 29]\n",
      "\n",
      "[[[ 0  1  2  3  4]\n",
      "  [ 5  6  7  8  9]\n",
      "  [10 11 12 13 14]]\n",
      "\n",
      " [[15 16 17 18 19]\n",
      "  [20 21 22 23 24]\n",
      "  [25 26 27 28 29]]]\n"
     ]
    }
   ],
   "source": [
    "a = np.arange(30)\n",
    "b = a.reshape((2, 3, -1))\n",
    "print(a)\n",
    "print()\n",
    "\n",
    "print(b)"
   ]
  },
  {
   "cell_type": "code",
   "execution_count": 14,
   "id": "863a45df",
   "metadata": {
    "scrolled": false
   },
   "outputs": [],
   "source": [
    "# On the first line we create a NumPy array 'a' with 30 consecutive numbers starting from 0. \n",
    "# It's a 1D array.\n",
    "# The second line reshapes the original array 'a' into a new array 'b' with a new shape.\n",
    "# 'b' is reshaped into a 3D array with dimensions 2x3x5."
   ]
  },
  {
   "cell_type": "markdown",
   "id": "ab5933d5",
   "metadata": {},
   "source": [
    "### Broadcasting\n",
    "**Read the following link about broadcasting: https://numpy.org/doc/stable/user/basics.broadcasting.html#basics-broadcasting**"
   ]
  },
  {
   "cell_type": "markdown",
   "id": "039805ba",
   "metadata": {},
   "source": [
    "# Remark on Broadcasting when doing Linear Algebra calculations in Python. "
   ]
  },
  {
   "cell_type": "markdown",
   "id": "c4bcc147",
   "metadata": {},
   "source": [
    "### From the mathematical rules of matrix addition, the operation below (m1 + m2) does not make sense. The reason is that matrix addition requires two matrices of the same size. In Python however, it works due to broadcasting rules in NumPy. So you must be careful when doing Linear Algebra calculations in Python since they do not follow the \"mathematical rules\". This can however easily be handled by doing some simple programming, for example validating that two matrices have the same shape is easy if you for instance want to add two matrices. "
   ]
  },
  {
   "cell_type": "code",
   "execution_count": 15,
   "id": "1fd46778",
   "metadata": {
    "scrolled": true
   },
   "outputs": [
    {
     "name": "stdout",
     "output_type": "stream",
     "text": [
      "[[2 3]\n",
      " [4 5]]\n",
      "(2, 2)\n",
      "(2,)\n"
     ]
    }
   ],
   "source": [
    "m1 = np.array([[1, 2], [3, 4]])\n",
    "m2 = np.array([1, 1])\n",
    "print(m1 + m2)\n",
    "\n",
    "print(m1.shape)\n",
    "print(m2.shape)"
   ]
  },
  {
   "cell_type": "markdown",
   "id": "047d6576",
   "metadata": {},
   "source": [
    "### The example below would also not be allowed if following the \"mathematical rules\" in Linear Algebra. But it works due to broadcasting in NumPy. "
   ]
  },
  {
   "cell_type": "code",
   "execution_count": 16,
   "id": "5e6ef2e4",
   "metadata": {
    "scrolled": true
   },
   "outputs": [
    {
     "name": "stdout",
     "output_type": "stream",
     "text": [
      "[2 3 4]\n"
     ]
    }
   ],
   "source": [
    "v1 = np.array([1, 2, 3])\n",
    "print(v1 + 1)"
   ]
  },
  {
   "cell_type": "code",
   "execution_count": 17,
   "id": "e2cbae26",
   "metadata": {
    "scrolled": true
   },
   "outputs": [
    {
     "name": "stdout",
     "output_type": "stream",
     "text": [
      "[[1 2]\n",
      " [3 4]]\n",
      "[2 2]\n",
      "\n",
      "[[3 4]\n",
      " [5 6]]\n"
     ]
    }
   ],
   "source": [
    "A = np.arange(1, 5).reshape(2,2)\n",
    "print(A)\n",
    "\n",
    "b = np.array([2, 2])\n",
    "print(b)\n",
    "\n",
    "print()\n",
    "\n",
    "print(A+b)"
   ]
  },
  {
   "cell_type": "markdown",
   "id": "722fd5cd",
   "metadata": {},
   "source": [
    "# Linear Algebra Exercises"
   ]
  },
  {
   "cell_type": "markdown",
   "id": "b8935099",
   "metadata": {},
   "source": [
    "The exercies are taken from the \"Matrix Algebra for Engineers\" by Chasnov: https://www.math.hkust.edu.hk/~machas/matrix-algebra-for-engineers.pdf .\n",
    "\n",
    "Do the following exercises: \n",
    "* Chapter 2, exercise 1-3.\n",
    "* Quiz on p.11, exercise 2. \n",
    "* Chapter 6, exercise 1. \n",
    "* Quiz on p.19, exercise 3. \n",
    "\n",
    "\n",
    "* Chapter 10, exercise 1. \n",
    "* Chapter 12 exercise 1. \n"
   ]
  },
  {
   "cell_type": "code",
   "execution_count": 18,
   "id": "a452a77a",
   "metadata": {
    "scrolled": true
   },
   "outputs": [
    {
     "name": "stdout",
     "output_type": "stream",
     "text": [
      "[[ 2  1 -1]\n",
      " [ 1 -1  1]]\n",
      "[[ 4 -2  1]\n",
      " [ 2 -4 -2]]\n",
      "[[1 2]\n",
      " [2 1]]\n",
      "[[3 4]\n",
      " [4 3]]\n",
      "[[1]\n",
      " [2]]\n"
     ]
    }
   ],
   "source": [
    "A = np.array([[2, 1, -1], [1, -1, 1]])\n",
    "B = np.array([[4, -2, 1], [2, -4, -2]])\n",
    "\n",
    "C = np.array([[1, 2], [2, 1]])\n",
    "D = np.array([[3, 4], [4, 3]])\n",
    "\n",
    "E = np.array([[1], [2]])\n",
    "\n",
    "print(A)\n",
    "print(B)\n",
    "print(C)\n",
    "print(D)\n",
    "print(E)"
   ]
  },
  {
   "cell_type": "markdown",
   "id": "9d8366cc",
   "metadata": {},
   "source": [
    "**Chap2. Question 1.**\n",
    "\n",
    "**Write a function \"add_mult_matrices\" that takes two matrices as input arguments (validate that the input are of the type numpy.ndarray by using the isinstance function), a third argument that is either 'add' or 'multiply' that specifies if you want to add or multiply the matrices (validate that the third argument is either 'add' or 'multiply'). When doing matrix addition, validate that the matrices have the same size. When doing matrix multiplication, validate that the sizes conform (i.e. number of columns in the first matrix is equal to the number of rows in the second matrix).**\n",
    "\n",
    "In this exercise, create a function that takes two matrices as input and either adds or multiplies them by specifying a argument as either 'add' or 'multiply'. Validate that both matrices taken as input are of the type ndarray (use the isinstance function)."
   ]
  },
  {
   "cell_type": "code",
   "execution_count": 19,
   "id": "535ee48c",
   "metadata": {
    "scrolled": true
   },
   "outputs": [],
   "source": [
    "def add_mult_matrices(matrix1, matrix2, operation):\n",
    "\n",
    "    if not (isinstance(matrix1, np.ndarray) and isinstance(matrix2, np.ndarray)):\n",
    "        raise TypeError('Matrices must be numpy arrays.')\n",
    "        \n",
    "    if operation == 'add':\n",
    "        if not matrix1.shape == matrix2.shape:\n",
    "            raise ValueError ('To do matrix addition the matrices have to have the same shape.')\n",
    "        else:\n",
    "            return matrix1 + matrix2\n",
    "        \n",
    "    elif operation == 'multiply':\n",
    "        if not matrix1.shape[1] == matrix2.shape[0]:\n",
    "            raise ValueError ('To multiply to matrices columns and rows must be the same lenght.')\n",
    "        else:\n",
    "            return matrix1 @ matrix2\n",
    "        \n",
    "    else:\n",
    "        raise Exception('The operation argument has to be \"add\" or \"multiply\"')"
   ]
  },
  {
   "cell_type": "code",
   "execution_count": 20,
   "id": "aad8d026",
   "metadata": {},
   "outputs": [
    {
     "data": {
      "text/plain": [
       "array([[ 0, -4,  3],\n",
       "       [ 0, -2, -4]])"
      ]
     },
     "execution_count": 20,
     "metadata": {},
     "output_type": "execute_result"
    }
   ],
   "source": [
    "# B-2A\n",
    "add_mult_matrices(B, -2*A, 'add')"
   ]
  },
  {
   "cell_type": "code",
   "execution_count": 21,
   "id": "0e43b763",
   "metadata": {},
   "outputs": [
    {
     "ename": "ValueError",
     "evalue": "To do matrix addition the matrices have to have the same shape.",
     "output_type": "error",
     "traceback": [
      "\u001b[1;31m---------------------------------------------------------------------------\u001b[0m",
      "\u001b[1;31mValueError\u001b[0m                                Traceback (most recent call last)",
      "Cell \u001b[1;32mIn[21], line 2\u001b[0m\n\u001b[0;32m      1\u001b[0m \u001b[38;5;66;03m# 3C-E\u001b[39;00m\n\u001b[1;32m----> 2\u001b[0m add_mult_matrices(\u001b[38;5;241m3\u001b[39m\u001b[38;5;241m*\u001b[39mC, \u001b[38;5;241m-\u001b[39mE, \u001b[38;5;124m'\u001b[39m\u001b[38;5;124madd\u001b[39m\u001b[38;5;124m'\u001b[39m)\n",
      "Cell \u001b[1;32mIn[19], line 8\u001b[0m, in \u001b[0;36madd_mult_matrices\u001b[1;34m(matrix1, matrix2, operation)\u001b[0m\n\u001b[0;32m      6\u001b[0m \u001b[38;5;28;01mif\u001b[39;00m operation \u001b[38;5;241m==\u001b[39m \u001b[38;5;124m'\u001b[39m\u001b[38;5;124madd\u001b[39m\u001b[38;5;124m'\u001b[39m:\n\u001b[0;32m      7\u001b[0m     \u001b[38;5;28;01mif\u001b[39;00m \u001b[38;5;129;01mnot\u001b[39;00m matrix1\u001b[38;5;241m.\u001b[39mshape \u001b[38;5;241m==\u001b[39m matrix2\u001b[38;5;241m.\u001b[39mshape:\n\u001b[1;32m----> 8\u001b[0m         \u001b[38;5;28;01mraise\u001b[39;00m \u001b[38;5;167;01mValueError\u001b[39;00m (\u001b[38;5;124m'\u001b[39m\u001b[38;5;124mTo do matrix addition the matrices have to have the same shape.\u001b[39m\u001b[38;5;124m'\u001b[39m)\n\u001b[0;32m      9\u001b[0m     \u001b[38;5;28;01melse\u001b[39;00m:\n\u001b[0;32m     10\u001b[0m         \u001b[38;5;28;01mreturn\u001b[39;00m matrix1 \u001b[38;5;241m+\u001b[39m matrix2\n",
      "\u001b[1;31mValueError\u001b[0m: To do matrix addition the matrices have to have the same shape."
     ]
    }
   ],
   "source": [
    "# 3C-E\n",
    "add_mult_matrices(3*C, -E, 'add')"
   ]
  },
  {
   "cell_type": "code",
   "execution_count": 22,
   "id": "1883bf8d",
   "metadata": {},
   "outputs": [
    {
     "ename": "ValueError",
     "evalue": "To multiply to matrices columns and rows must be the same lenght.",
     "output_type": "error",
     "traceback": [
      "\u001b[1;31m---------------------------------------------------------------------------\u001b[0m",
      "\u001b[1;31mValueError\u001b[0m                                Traceback (most recent call last)",
      "Cell \u001b[1;32mIn[22], line 2\u001b[0m\n\u001b[0;32m      1\u001b[0m \u001b[38;5;66;03m# AC\u001b[39;00m\n\u001b[1;32m----> 2\u001b[0m add_mult_matrices(A, C, \u001b[38;5;124m'\u001b[39m\u001b[38;5;124mmultiply\u001b[39m\u001b[38;5;124m'\u001b[39m)\n",
      "Cell \u001b[1;32mIn[19], line 14\u001b[0m, in \u001b[0;36madd_mult_matrices\u001b[1;34m(matrix1, matrix2, operation)\u001b[0m\n\u001b[0;32m     12\u001b[0m \u001b[38;5;28;01melif\u001b[39;00m operation \u001b[38;5;241m==\u001b[39m \u001b[38;5;124m'\u001b[39m\u001b[38;5;124mmultiply\u001b[39m\u001b[38;5;124m'\u001b[39m:\n\u001b[0;32m     13\u001b[0m     \u001b[38;5;28;01mif\u001b[39;00m \u001b[38;5;129;01mnot\u001b[39;00m matrix1\u001b[38;5;241m.\u001b[39mshape[\u001b[38;5;241m1\u001b[39m] \u001b[38;5;241m==\u001b[39m matrix2\u001b[38;5;241m.\u001b[39mshape[\u001b[38;5;241m0\u001b[39m]:\n\u001b[1;32m---> 14\u001b[0m         \u001b[38;5;28;01mraise\u001b[39;00m \u001b[38;5;167;01mValueError\u001b[39;00m (\u001b[38;5;124m'\u001b[39m\u001b[38;5;124mTo multiply to matrices columns and rows must be the same lenght.\u001b[39m\u001b[38;5;124m'\u001b[39m)\n\u001b[0;32m     15\u001b[0m     \u001b[38;5;28;01melse\u001b[39;00m:\n\u001b[0;32m     16\u001b[0m         \u001b[38;5;28;01mreturn\u001b[39;00m matrix1 \u001b[38;5;241m@\u001b[39m matrix2\n",
      "\u001b[1;31mValueError\u001b[0m: To multiply to matrices columns and rows must be the same lenght."
     ]
    }
   ],
   "source": [
    "# AC\n",
    "add_mult_matrices(A, C, 'multiply')"
   ]
  },
  {
   "cell_type": "code",
   "execution_count": 23,
   "id": "4107e359",
   "metadata": {},
   "outputs": [
    {
     "data": {
      "text/plain": [
       "array([[11, 10],\n",
       "       [10, 11]])"
      ]
     },
     "execution_count": 23,
     "metadata": {},
     "output_type": "execute_result"
    }
   ],
   "source": [
    "# CD\n",
    "add_mult_matrices(C, D, 'multiply')"
   ]
  },
  {
   "cell_type": "code",
   "execution_count": 24,
   "id": "15d42cc8",
   "metadata": {},
   "outputs": [
    {
     "data": {
      "text/plain": [
       "array([[  8, -10,  -3],\n",
       "       [ 10,  -8,   0]])"
      ]
     },
     "execution_count": 24,
     "metadata": {},
     "output_type": "execute_result"
    }
   ],
   "source": [
    "# CB\n",
    "add_mult_matrices(C, B, 'multiply')"
   ]
  },
  {
   "cell_type": "markdown",
   "id": "5000c829",
   "metadata": {},
   "source": [
    "**Chap2. Question 2**"
   ]
  },
  {
   "cell_type": "code",
   "execution_count": 25,
   "id": "5f746b98",
   "metadata": {},
   "outputs": [],
   "source": [
    "A = np.array([[1, 2], [2, 4]])\n",
    "B = np.array([[2, 1], [1, 3]])\n",
    "C = np.array([[4, 3], [0, 2]])"
   ]
  },
  {
   "cell_type": "code",
   "execution_count": 26,
   "id": "7277109c",
   "metadata": {},
   "outputs": [
    {
     "name": "stdout",
     "output_type": "stream",
     "text": [
      "AB: [[ 4  7]\n",
      " [ 8 14]]\n",
      "\n",
      "AC: [[ 4  7]\n",
      " [ 8 14]]\n",
      "\n",
      "AB = AC is  True\n",
      "\n",
      "B = C is  False\n"
     ]
    }
   ],
   "source": [
    "print('AB:', add_mult_matrices(A, B, 'multiply'))\n",
    "print()\n",
    "print('AC:', add_mult_matrices(A, C, 'multiply'))\n",
    "print()\n",
    "print('AB = AC is ', (A@B == A@C).all())\n",
    "print()\n",
    "print('B = C is ', (B == C).all())  "
   ]
  },
  {
   "cell_type": "markdown",
   "id": "a7f5b140",
   "metadata": {},
   "source": [
    "**Chap2. Question 3**"
   ]
  },
  {
   "cell_type": "code",
   "execution_count": 27,
   "id": "6cd5be1b",
   "metadata": {},
   "outputs": [],
   "source": [
    "A = np.array([[1, 1, 1], [1, 2, 3], [1, 3, 4]])\n",
    "D = np.array([[2, 0, 0], [0, 3, 0], [0, 0, 4]])"
   ]
  },
  {
   "cell_type": "code",
   "execution_count": 28,
   "id": "668b1323",
   "metadata": {
    "scrolled": true
   },
   "outputs": [
    {
     "name": "stdout",
     "output_type": "stream",
     "text": [
      "AD: \n",
      " [[ 2  3  4]\n",
      " [ 2  6 12]\n",
      " [ 2  9 16]]\n",
      "\n",
      "and\n",
      "\n",
      "DA: \n",
      " [[ 2  2  2]\n",
      " [ 3  6  9]\n",
      " [ 4 12 16]]\n"
     ]
    }
   ],
   "source": [
    "print('AD:', '\\n', add_mult_matrices(A, D, 'multiply'))\n",
    "print()\n",
    "print('and')\n",
    "print()\n",
    "print('DA:', '\\n', add_mult_matrices(D, A, 'multiply'))"
   ]
  },
  {
   "cell_type": "markdown",
   "id": "334ca623",
   "metadata": {},
   "source": [
    "**Quiz p.11, Question 2**"
   ]
  },
  {
   "cell_type": "code",
   "execution_count": 29,
   "id": "b031a786",
   "metadata": {
    "scrolled": true
   },
   "outputs": [],
   "source": [
    "A = np.array([[1, -1], [-1, 1]])\n",
    "B = np.array([[-1, 1], [1, -1]])"
   ]
  },
  {
   "cell_type": "code",
   "execution_count": 30,
   "id": "36161254",
   "metadata": {},
   "outputs": [
    {
     "name": "stdout",
     "output_type": "stream",
     "text": [
      "AB: \n",
      " [[-2  2]\n",
      " [ 2 -2]]\n"
     ]
    }
   ],
   "source": [
    "print('AB:', '\\n', add_mult_matrices(A, B, 'multiply'))"
   ]
  },
  {
   "cell_type": "markdown",
   "id": "fbfb4124",
   "metadata": {},
   "source": [
    "**Chap 6. Question 1**"
   ]
  },
  {
   "cell_type": "code",
   "execution_count": 31,
   "id": "9c68d160",
   "metadata": {
    "scrolled": true
   },
   "outputs": [],
   "source": [
    "M1 = np.array([[5, 6], [4, 5]])\n",
    "M2 = np.array([[6, 4], [3, 3]])"
   ]
  },
  {
   "cell_type": "code",
   "execution_count": 32,
   "id": "1356c313",
   "metadata": {},
   "outputs": [
    {
     "name": "stdout",
     "output_type": "stream",
     "text": [
      "The inverse of M1 is: \n",
      "[[ 5. -6.]\n",
      " [-4.  5.]]\n",
      "\n",
      "True\n",
      "\n",
      "The inverse of M2 is: \n",
      "[[ 0.5        -0.66666667]\n",
      " [-0.5         1.        ]]\n",
      "\n",
      "True\n"
     ]
    }
   ],
   "source": [
    "M1_inv = np.linalg.inv(M1)\n",
    "print('The inverse of M1 is: ')\n",
    "print(M1_inv)\n",
    "print()\n",
    "print(np.allclose(M1 @ M1_inv, np.eye(2)))\n",
    "print()\n",
    "M2_inv = np.linalg.inv(M2)\n",
    "print('The inverse of M2 is: ')\n",
    "print(M2_inv)\n",
    "print()\n",
    "print(np.allclose(M2 @ M2_inv, np.eye(2)))"
   ]
  },
  {
   "cell_type": "markdown",
   "id": "574b6d18",
   "metadata": {},
   "source": [
    "**Quiz p.19, Question 3**"
   ]
  },
  {
   "cell_type": "code",
   "execution_count": 33,
   "id": "c4cc11eb",
   "metadata": {
    "scrolled": true
   },
   "outputs": [
    {
     "name": "stdout",
     "output_type": "stream",
     "text": [
      "[[ 1.  -1. ]\n",
      " [-0.5  1. ]]\n"
     ]
    }
   ],
   "source": [
    "A = np.array([[2, 2], [1, 2]])\n",
    "A_inv = np.linalg.inv(A)\n",
    "print(A_inv)"
   ]
  },
  {
   "cell_type": "markdown",
   "id": "5de93779",
   "metadata": {},
   "source": [
    "**Chap10. Question 1 a)**"
   ]
  },
  {
   "cell_type": "code",
   "execution_count": 34,
   "id": "e9a63544",
   "metadata": {
    "scrolled": true
   },
   "outputs": [
    {
     "name": "stdout",
     "output_type": "stream",
     "text": [
      "[[ 3 -7 -2]\n",
      " [-3  5  1]\n",
      " [ 6 -4  0]]\n",
      "\n",
      "[-7  5  2]\n"
     ]
    }
   ],
   "source": [
    "M1 = np.array([[3, -7, -2], [-3, 5, 1], [6, -4, 0]])\n",
    "M2 = np.array([-7, 5, 2])\n",
    "print(M1)\n",
    "print()\n",
    "print(M2)"
   ]
  },
  {
   "cell_type": "code",
   "execution_count": 35,
   "id": "95f4d4d6",
   "metadata": {},
   "outputs": [
    {
     "name": "stdout",
     "output_type": "stream",
     "text": [
      "[ 3.  4. -6.]\n"
     ]
    }
   ],
   "source": [
    "x = np.linalg.solve(M1, M2)\n",
    "print(x)"
   ]
  },
  {
   "cell_type": "code",
   "execution_count": 36,
   "id": "2f48e973",
   "metadata": {},
   "outputs": [
    {
     "data": {
      "text/plain": [
       "array([-7.,  5.,  2.])"
      ]
     },
     "execution_count": 36,
     "metadata": {},
     "output_type": "execute_result"
    }
   ],
   "source": [
    "M1 @ x"
   ]
  },
  {
   "cell_type": "markdown",
   "id": "3f49e9e1",
   "metadata": {},
   "source": [
    "**Chap10. Question 1 b)**"
   ]
  },
  {
   "cell_type": "code",
   "execution_count": 37,
   "id": "6f6e72fb",
   "metadata": {
    "scrolled": true
   },
   "outputs": [
    {
     "name": "stdout",
     "output_type": "stream",
     "text": [
      "[[ 1 -2  3]\n",
      " [-1  3 -1]\n",
      " [ 2 -5  5]]\n",
      "\n",
      "[ 1 -1  1]\n"
     ]
    }
   ],
   "source": [
    "M3 = np.array([[1, -2, 3], [-1, 3, -1], [2, -5, 5]])\n",
    "M4 = np.array([1, -1, 1])\n",
    "print(M3)\n",
    "print()\n",
    "print(M4)"
   ]
  },
  {
   "cell_type": "code",
   "execution_count": 38,
   "id": "4be73c44",
   "metadata": {},
   "outputs": [
    {
     "name": "stdout",
     "output_type": "stream",
     "text": [
      "[ 8.  2. -1.]\n"
     ]
    }
   ],
   "source": [
    "x = np.linalg.solve(M3, M4)\n",
    "print(x)"
   ]
  },
  {
   "cell_type": "markdown",
   "id": "beb0a8af",
   "metadata": {},
   "source": [
    "**Chap 12. Question 1**"
   ]
  },
  {
   "cell_type": "code",
   "execution_count": 39,
   "id": "4fe15c46",
   "metadata": {
    "scrolled": true
   },
   "outputs": [],
   "source": [
    "M5 = np.array([[3, -7, -2], [-3, 5, 1], [6, -4, 0]])"
   ]
  },
  {
   "cell_type": "code",
   "execution_count": 40,
   "id": "71d948ad",
   "metadata": {},
   "outputs": [
    {
     "name": "stdout",
     "output_type": "stream",
     "text": [
      "[[ 0.66666667  1.33333333  0.5       ]\n",
      " [ 1.          2.          0.5       ]\n",
      " [-3.         -5.         -1.        ]]\n",
      "\n",
      "True\n"
     ]
    }
   ],
   "source": [
    "M5_inv = np.linalg.inv(M5)\n",
    "print(M5_inv)\n",
    "print()\n",
    "print(np.allclose(M5 @ M5_inv, np.eye(3)))"
   ]
  },
  {
   "cell_type": "markdown",
   "id": "6a4a524f",
   "metadata": {},
   "source": [
    "### Copies and Views\n",
    "Read the following link: https://numpy.org/doc/stable/user/basics.copies.html"
   ]
  },
  {
   "cell_type": "markdown",
   "id": "6cbbeaf7",
   "metadata": {},
   "source": [
    "**Basic indexing creates a view, How can you check if v1 and v2 is a view or copy? If you change the last element in v2 to 123, will the last element in v1 be changed? Why?**"
   ]
  },
  {
   "cell_type": "code",
   "execution_count": 41,
   "id": "5b9ef4df",
   "metadata": {
    "scrolled": true
   },
   "outputs": [
    {
     "name": "stdout",
     "output_type": "stream",
     "text": [
      "[0 1 2 3]\n",
      "[2 3]\n"
     ]
    }
   ],
   "source": [
    "v1 = np.arange(4)\n",
    "v2 = v1[-2:]\n",
    "print(v1)\n",
    "print(v2)"
   ]
  },
  {
   "cell_type": "code",
   "execution_count": 42,
   "id": "d2440489",
   "metadata": {
    "scrolled": true
   },
   "outputs": [
    {
     "name": "stdout",
     "output_type": "stream",
     "text": [
      "None\n",
      "[0 1 2 3]\n"
     ]
    }
   ],
   "source": [
    "# The base attribute of a view returns the original array while it returns None for a copy.\n",
    "print(v1.base)\n",
    "print(v2.base)"
   ]
  },
  {
   "cell_type": "code",
   "execution_count": 43,
   "id": "c8752807",
   "metadata": {
    "scrolled": true
   },
   "outputs": [
    {
     "name": "stdout",
     "output_type": "stream",
     "text": [
      "[  0   1   2 123]\n",
      "[  2 123]\n"
     ]
    }
   ],
   "source": [
    "# The last element in v1 will be changed aswell since v2 is a view, meaning they share the same data buffer.\n",
    "v2[-1] = 123\n",
    "print(v1)\n",
    "print(v2)"
   ]
  }
 ],
 "metadata": {
  "kernelspec": {
   "display_name": "Python 3 (ipykernel)",
   "language": "python",
   "name": "python3"
  },
  "language_info": {
   "codemirror_mode": {
    "name": "ipython",
    "version": 3
   },
   "file_extension": ".py",
   "mimetype": "text/x-python",
   "name": "python",
   "nbconvert_exporter": "python",
   "pygments_lexer": "ipython3",
   "version": "3.11.3"
  }
 },
 "nbformat": 4,
 "nbformat_minor": 5
}
